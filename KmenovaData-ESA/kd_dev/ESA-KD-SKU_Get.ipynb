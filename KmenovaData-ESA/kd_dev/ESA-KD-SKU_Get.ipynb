{
 "cells": [
  {
   "cell_type": "code",
   "execution_count": 1,
   "metadata": {},
   "outputs": [],
   "source": [
    "import requests\n",
    "from requests.auth import HTTPBasicAuth\n"
   ]
  },
  {
   "cell_type": "code",
   "execution_count": 2,
   "metadata": {},
   "outputs": [
    {
     "name": "stdout",
     "output_type": "stream",
     "text": [
      "----------------------------------------------\n",
      "ESHOP queue processing ....\n",
      "----------------------------------------------\n"
     ]
    }
   ],
   "source": [
    "\n",
    "print(\"----------------------------------------------\")\n",
    "print(\"ESHOP queue processing ....\")\n",
    "print(\"----------------------------------------------\")\n",
    "\n",
    "username = \"emco\"\n",
    "password = \"!Em50_%Str0nGPsw\"\n",
    "#api_url = \"https://api.esa-logistics.eu/v2/item-master?item_number=1380130\"\n",
    "\n",
    "def get_api_url(item_number):\n",
    "    base_url = \"https://api.esa-logistics.eu/v2/item-master\"\n",
    "    return f\"{base_url}?item_number={item_number}\"\n",
    "\n",
    "#item_number = \"1380130\"\n",
    "item_number = input(\"Zadejte item_number: \")\n",
    "api_url = get_api_url(item_number)\n"
   ]
  },
  {
   "cell_type": "code",
   "execution_count": 7,
   "metadata": {},
   "outputs": [
    {
     "name": "stdout",
     "output_type": "stream",
     "text": [
      "Q-Proces ... úspěšně zavoláno, kód 200.\n",
      "--------------------\n",
      "Warehouse: UZ1\n",
      "Company: EMC\n",
      "Item Number: 1380130\n",
      "Item Name: Stojan mysli SR\n",
      "Item Name: 8595229925385\n",
      "Item Name: OK\n",
      "Item Name: KS\n",
      "--------------------\n"
     ]
    }
   ],
   "source": [
    "\n",
    "try:\n",
    "    response = requests.get(api_url, auth=HTTPBasicAuth(username, password))\n",
    "    if response.status_code == 200:\n",
    "        print(\"Q-Proces ... úspěšně zavoláno, kód 200.\")\n",
    "        print(\"-\" * 20)\n",
    "\n",
    "        data = response.json()\n",
    "        \n",
    "        for item in data:\n",
    "            warehouse = item.get(\"warehouse\", \"N/A\")\n",
    "            company = item.get(\"company\", \"N/A\")\n",
    "            item_number = item.get(\"item_number\", \"N/A\")\n",
    "            item_name = item.get(\"item_name\", \"N/A\")\n",
    "            ean_main = item.get(\"ean_main\", \"N/A\")\n",
    "            quality_code = item.get(\"quality_code\", \"N/A\")\n",
    "            unit_of_measure = item.get(\"unit_of_measure\", \"N/A\")\n",
    "\n",
    "            print(f\"Warehouse: {warehouse}\")\n",
    "            print(f\"Company: {company}\")\n",
    "            print(f\"Item Number: {item_number}\")\n",
    "            print(f\"Item Name: {item_name}\")\n",
    "            print(f\"Item Name: {ean_main}\")\n",
    "            print(f\"Item Name: {quality_code}\")\n",
    "            print(f\"Item Name: {unit_of_measure}\")\n",
    "            print(\"-\" * 20)        \n",
    "    else:\n",
    "        print(f\"Chyba při volání API. Status kód: {response.status_code}\")\n",
    "        \n",
    "except Exception as e:\n",
    "    print(f\"Chyba: {e}\")\n"
   ]
  }
 ],
 "metadata": {
  "kernelspec": {
   "display_name": "Python 3",
   "language": "python",
   "name": "python3"
  },
  "language_info": {
   "codemirror_mode": {
    "name": "ipython",
    "version": 3
   },
   "file_extension": ".py",
   "mimetype": "text/x-python",
   "name": "python",
   "nbconvert_exporter": "python",
   "pygments_lexer": "ipython3",
   "version": "3.10.4"
  }
 },
 "nbformat": 4,
 "nbformat_minor": 2
}
